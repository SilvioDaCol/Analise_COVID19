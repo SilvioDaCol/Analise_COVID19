{
 "cells": [
  {
   "cell_type": "markdown",
   "metadata": {},
   "source": [
    "# Trabalho em Grupo I\n",
    "\n",
    "```\n",
    "Disciplina: Inteligência artificial 6º semestre\n",
    "IFSP campus Campinas\n",
    "Alunos: \n",
    "- Paulo Henrique Belucci - CP3001369\n",
    "- Silvio da Col de Brito - CP300130X\n",
    "Prof.: Dr. Samuel Martins\n",
    "```\n",
    "\n",
    "## Análise exploratória - Pandemia do Corona vírus no Brasil\n",
    "\n",
    "---"
   ]
  },
  {
   "cell_type": "markdown",
   "metadata": {},
   "source": [
    "### Descrição e motivação\n",
    "\n",
    "A pandemia do Corona vírus teve início ao final do ano 2019 e, em pouco mais de um ano, é responsável por mais de 1,4 milhão de mortes em todo o mundo. Seus sintomas são parecidos com os sintomas da gripe, com destaque para a síndrome respiratória. Embora sua taxa de letalidade não seja tão alta, seu sintomas somados a um grande número de infectados tem se tornado um gravíssimo problema de saúde pública em todos os países, devido a sobrecarga de leitos de Unidade de Tratamento Intensivo (UTI) por aqueles casos se se agravam.\n",
    "\n",
    "Muitos estudos e pesquisas tem sido desenvolvidos em prol de mapear a genética do vírus, entender as formas de contágio, testar tratamentos para pacientes infectados e, destaca-se, desenvolver uma vacina para imunizar a população interrompendo assim o ciclo de contágio.\n",
    "\n",
    "Esta análise exploratória visa entender alguns aspectos da pandemia no Brasil, tais informações servem de insumo para elaboração de estratégias eficazes no combate ao avança da doença.\n",
    "\n"
   ]
  },
  {
   "cell_type": "markdown",
   "metadata": {},
   "source": [
    "### Descrição da base de dados\n",
    "\n",
    "O conjunto de dados foi extraído do [painel oficial](https://covid.saude.gov.br/) de COVID-19 no Brasil e cobre informações de todos os estados e municípios.\n",
    "\n",
    "Cada registro contabiliza os casos novos, acumulados, recuperados por estado e município. A periodicidade é diária, ou seja, cada linha representa um dia.\n",
    "\n",
    "As colunas presentes no _dataset_ são:\n",
    "- regiao\n",
    "- estado\n",
    "- municipio\n",
    "- coduf\n",
    "- codmun\n",
    "- codRegiaoSaude\n",
    "- nomeRegiaoSaude\n",
    "- data\n",
    "- semanaEpi\n",
    "- populacaoTCU2019\n",
    "- casosAcumulado\n",
    "- casosNovos\n",
    "- obitosAcumulado\n",
    "- obitosNovos\n",
    "- Recuperadosnovos\n",
    "- emAcompanhamentoNovos\n",
    "- interior/metropolitana\n",
    "\n",
    "Na sequência é realizada uma análise prévia sobre o dataset, seus tipos de dados, numero de registros, dados faltantes:"
   ]
  },
  {
   "cell_type": "code",
   "execution_count": 4,
   "metadata": {},
   "outputs": [],
   "source": [
    "import numpy as np\n",
    "import pandas as pd\n",
    "import matplotlib.pyplot as plt\n",
    "import seaborn as sns"
   ]
  },
  {
   "cell_type": "code",
   "execution_count": 5,
   "metadata": {},
   "outputs": [
    {
     "data": {
      "text/html": [
       "<div>\n",
       "<style scoped>\n",
       "    .dataframe tbody tr th:only-of-type {\n",
       "        vertical-align: middle;\n",
       "    }\n",
       "\n",
       "    .dataframe tbody tr th {\n",
       "        vertical-align: top;\n",
       "    }\n",
       "\n",
       "    .dataframe thead th {\n",
       "        text-align: right;\n",
       "    }\n",
       "</style>\n",
       "<table border=\"1\" class=\"dataframe\">\n",
       "  <thead>\n",
       "    <tr style=\"text-align: right;\">\n",
       "      <th></th>\n",
       "      <th>regiao</th>\n",
       "      <th>estado</th>\n",
       "      <th>municipio</th>\n",
       "      <th>coduf</th>\n",
       "      <th>codmun</th>\n",
       "      <th>codRegiaoSaude</th>\n",
       "      <th>nomeRegiaoSaude</th>\n",
       "      <th>data</th>\n",
       "      <th>semanaEpi</th>\n",
       "      <th>populacaoTCU2019</th>\n",
       "      <th>casosAcumulado</th>\n",
       "      <th>casosNovos</th>\n",
       "      <th>obitosAcumulado</th>\n",
       "      <th>obitosNovos</th>\n",
       "      <th>Recuperadosnovos</th>\n",
       "      <th>emAcompanhamentoNovos</th>\n",
       "      <th>interior/metropolitana</th>\n",
       "    </tr>\n",
       "  </thead>\n",
       "  <tbody>\n",
       "    <tr>\n",
       "      <th>0</th>\n",
       "      <td>Brasil</td>\n",
       "      <td>NaN</td>\n",
       "      <td>NaN</td>\n",
       "      <td>76</td>\n",
       "      <td>NaN</td>\n",
       "      <td>NaN</td>\n",
       "      <td>NaN</td>\n",
       "      <td>2020-02-25</td>\n",
       "      <td>9</td>\n",
       "      <td>210147125.0</td>\n",
       "      <td>0.0</td>\n",
       "      <td>0.0</td>\n",
       "      <td>0.0</td>\n",
       "      <td>0.0</td>\n",
       "      <td>NaN</td>\n",
       "      <td>NaN</td>\n",
       "      <td>NaN</td>\n",
       "    </tr>\n",
       "    <tr>\n",
       "      <th>1</th>\n",
       "      <td>Brasil</td>\n",
       "      <td>NaN</td>\n",
       "      <td>NaN</td>\n",
       "      <td>76</td>\n",
       "      <td>NaN</td>\n",
       "      <td>NaN</td>\n",
       "      <td>NaN</td>\n",
       "      <td>2020-02-26</td>\n",
       "      <td>9</td>\n",
       "      <td>210147125.0</td>\n",
       "      <td>1.0</td>\n",
       "      <td>1.0</td>\n",
       "      <td>0.0</td>\n",
       "      <td>0.0</td>\n",
       "      <td>NaN</td>\n",
       "      <td>NaN</td>\n",
       "      <td>NaN</td>\n",
       "    </tr>\n",
       "    <tr>\n",
       "      <th>2</th>\n",
       "      <td>Brasil</td>\n",
       "      <td>NaN</td>\n",
       "      <td>NaN</td>\n",
       "      <td>76</td>\n",
       "      <td>NaN</td>\n",
       "      <td>NaN</td>\n",
       "      <td>NaN</td>\n",
       "      <td>2020-02-27</td>\n",
       "      <td>9</td>\n",
       "      <td>210147125.0</td>\n",
       "      <td>1.0</td>\n",
       "      <td>0.0</td>\n",
       "      <td>0.0</td>\n",
       "      <td>0.0</td>\n",
       "      <td>NaN</td>\n",
       "      <td>NaN</td>\n",
       "      <td>NaN</td>\n",
       "    </tr>\n",
       "    <tr>\n",
       "      <th>3</th>\n",
       "      <td>Brasil</td>\n",
       "      <td>NaN</td>\n",
       "      <td>NaN</td>\n",
       "      <td>76</td>\n",
       "      <td>NaN</td>\n",
       "      <td>NaN</td>\n",
       "      <td>NaN</td>\n",
       "      <td>2020-02-28</td>\n",
       "      <td>9</td>\n",
       "      <td>210147125.0</td>\n",
       "      <td>1.0</td>\n",
       "      <td>0.0</td>\n",
       "      <td>0.0</td>\n",
       "      <td>0.0</td>\n",
       "      <td>NaN</td>\n",
       "      <td>NaN</td>\n",
       "      <td>NaN</td>\n",
       "    </tr>\n",
       "    <tr>\n",
       "      <th>4</th>\n",
       "      <td>Brasil</td>\n",
       "      <td>NaN</td>\n",
       "      <td>NaN</td>\n",
       "      <td>76</td>\n",
       "      <td>NaN</td>\n",
       "      <td>NaN</td>\n",
       "      <td>NaN</td>\n",
       "      <td>2020-02-29</td>\n",
       "      <td>9</td>\n",
       "      <td>210147125.0</td>\n",
       "      <td>2.0</td>\n",
       "      <td>1.0</td>\n",
       "      <td>0.0</td>\n",
       "      <td>0.0</td>\n",
       "      <td>NaN</td>\n",
       "      <td>NaN</td>\n",
       "      <td>NaN</td>\n",
       "    </tr>\n",
       "  </tbody>\n",
       "</table>\n",
       "</div>"
      ],
      "text/plain": [
       "   regiao estado municipio  coduf  codmun  codRegiaoSaude nomeRegiaoSaude  \\\n",
       "0  Brasil    NaN       NaN     76     NaN             NaN             NaN   \n",
       "1  Brasil    NaN       NaN     76     NaN             NaN             NaN   \n",
       "2  Brasil    NaN       NaN     76     NaN             NaN             NaN   \n",
       "3  Brasil    NaN       NaN     76     NaN             NaN             NaN   \n",
       "4  Brasil    NaN       NaN     76     NaN             NaN             NaN   \n",
       "\n",
       "         data  semanaEpi  populacaoTCU2019  casosAcumulado  casosNovos  \\\n",
       "0  2020-02-25          9       210147125.0             0.0         0.0   \n",
       "1  2020-02-26          9       210147125.0             1.0         1.0   \n",
       "2  2020-02-27          9       210147125.0             1.0         0.0   \n",
       "3  2020-02-28          9       210147125.0             1.0         0.0   \n",
       "4  2020-02-29          9       210147125.0             2.0         1.0   \n",
       "\n",
       "   obitosAcumulado  obitosNovos  Recuperadosnovos  emAcompanhamentoNovos  \\\n",
       "0              0.0          0.0               NaN                    NaN   \n",
       "1              0.0          0.0               NaN                    NaN   \n",
       "2              0.0          0.0               NaN                    NaN   \n",
       "3              0.0          0.0               NaN                    NaN   \n",
       "4              0.0          0.0               NaN                    NaN   \n",
       "\n",
       "   interior/metropolitana  \n",
       "0                     NaN  \n",
       "1                     NaN  \n",
       "2                     NaN  \n",
       "3                     NaN  \n",
       "4                     NaN  "
      ]
     },
     "execution_count": 5,
     "metadata": {},
     "output_type": "execute_result"
    }
   ],
   "source": [
    "covid = pd.read_csv('HIST_PAINEL_COVIDBR_02jan2021.csv', delimiter=';')\n",
    "covid.head()"
   ]
  },
  {
   "cell_type": "code",
   "execution_count": 6,
   "metadata": {},
   "outputs": [
    {
     "name": "stdout",
     "output_type": "stream",
     "text": [
      "<class 'pandas.core.frame.DataFrame'>\n",
      "RangeIndex: 18187 entries, 0 to 18186\n",
      "Data columns (total 17 columns):\n",
      " #   Column                  Non-Null Count  Dtype  \n",
      "---  ------                  --------------  -----  \n",
      " 0   regiao                  18187 non-null  object \n",
      " 1   estado                  17873 non-null  object \n",
      " 2   municipio               9140 non-null   object \n",
      " 3   coduf                   18187 non-null  int64  \n",
      " 4   codmun                  9422 non-null   float64\n",
      " 5   codRegiaoSaude          9140 non-null   float64\n",
      " 6   nomeRegiaoSaude         9140 non-null   object \n",
      " 7   data                    18187 non-null  object \n",
      " 8   semanaEpi               18187 non-null  int64  \n",
      " 9   populacaoTCU2019        17904 non-null  float64\n",
      " 10  casosAcumulado          18186 non-null  float64\n",
      " 11  casosNovos              18186 non-null  float64\n",
      " 12  obitosAcumulado         18186 non-null  float64\n",
      " 13  obitosNovos             18186 non-null  float64\n",
      " 14  Recuperadosnovos        260 non-null    float64\n",
      " 15  emAcompanhamentoNovos   260 non-null    float64\n",
      " 16  interior/metropolitana  9139 non-null   float64\n",
      "dtypes: float64(10), int64(2), object(5)\n",
      "memory usage: 2.4+ MB\n"
     ]
    }
   ],
   "source": [
    "covid.info()"
   ]
  },
  {
   "cell_type": "markdown",
   "metadata": {},
   "source": [
    "### Preparação da base de dados\n",
    "\n",
    "Infelizmente as colunas de estados e municiṕios possuem muitos dados faltantes. No caso dos estados, alguns podem ser recuperados com base no respectivo código 'coduf'. Já no caso de municípios, os códigos também possuem muitos campos faltantes.\n",
    "\n",
    "Outro detalhe é que há registros que não estão representando algum estado, mas o país como um todo. Portando o conjunto de dados será dividido em dois _datasets_, sendo um para análise dos estados **covid_estados**, e outro para análise do país **covid_brasil**."
   ]
  },
  {
   "cell_type": "code",
   "execution_count": 7,
   "metadata": {},
   "outputs": [],
   "source": [
    "## Convertendo as datas do tipo 'object' para o tipo 'datetime'\n",
    "covid.data = covid.data.apply(lambda dt : pd.to_datetime(dt))"
   ]
  },
  {
   "cell_type": "code",
   "execution_count": 8,
   "metadata": {},
   "outputs": [
    {
     "name": "stdout",
     "output_type": "stream",
     "text": [
      "\n",
      "\n",
      " DATASET COVID19 NO BRASIL \n",
      "\n",
      "\n",
      "<class 'pandas.core.frame.DataFrame'>\n",
      "Int64Index: 314 entries, 0 to 313\n",
      "Data columns (total 7 columns):\n",
      " #   Column            Non-Null Count  Dtype         \n",
      "---  ------            --------------  -----         \n",
      " 0   data              314 non-null    datetime64[ns]\n",
      " 1   semanaEpi         314 non-null    int64         \n",
      " 2   populacaoTCU2019  314 non-null    float64       \n",
      " 3   casosAcumulado    314 non-null    float64       \n",
      " 4   casosNovos        314 non-null    float64       \n",
      " 5   obitosAcumulado   314 non-null    float64       \n",
      " 6   obitosNovos       314 non-null    float64       \n",
      "dtypes: datetime64[ns](1), float64(5), int64(1)\n",
      "memory usage: 19.6 KB\n",
      "\n",
      "\n",
      " ============= \n",
      "\n",
      "\n"
     ]
    },
    {
     "data": {
      "text/html": [
       "<div>\n",
       "<style scoped>\n",
       "    .dataframe tbody tr th:only-of-type {\n",
       "        vertical-align: middle;\n",
       "    }\n",
       "\n",
       "    .dataframe tbody tr th {\n",
       "        vertical-align: top;\n",
       "    }\n",
       "\n",
       "    .dataframe thead th {\n",
       "        text-align: right;\n",
       "    }\n",
       "</style>\n",
       "<table border=\"1\" class=\"dataframe\">\n",
       "  <thead>\n",
       "    <tr style=\"text-align: right;\">\n",
       "      <th></th>\n",
       "      <th>data</th>\n",
       "      <th>semanaEpi</th>\n",
       "      <th>populacaoTCU2019</th>\n",
       "      <th>casosAcumulado</th>\n",
       "      <th>casosNovos</th>\n",
       "      <th>obitosAcumulado</th>\n",
       "      <th>obitosNovos</th>\n",
       "    </tr>\n",
       "  </thead>\n",
       "  <tbody>\n",
       "    <tr>\n",
       "      <th>309</th>\n",
       "      <td>2020-12-29</td>\n",
       "      <td>53</td>\n",
       "      <td>210147125.0</td>\n",
       "      <td>7563551.0</td>\n",
       "      <td>58718.0</td>\n",
       "      <td>192681.0</td>\n",
       "      <td>1111.0</td>\n",
       "    </tr>\n",
       "    <tr>\n",
       "      <th>310</th>\n",
       "      <td>2020-12-30</td>\n",
       "      <td>53</td>\n",
       "      <td>210147125.0</td>\n",
       "      <td>7619200.0</td>\n",
       "      <td>55649.0</td>\n",
       "      <td>193875.0</td>\n",
       "      <td>1194.0</td>\n",
       "    </tr>\n",
       "    <tr>\n",
       "      <th>311</th>\n",
       "      <td>2020-12-31</td>\n",
       "      <td>53</td>\n",
       "      <td>210147125.0</td>\n",
       "      <td>7675973.0</td>\n",
       "      <td>56773.0</td>\n",
       "      <td>194949.0</td>\n",
       "      <td>1074.0</td>\n",
       "    </tr>\n",
       "    <tr>\n",
       "      <th>312</th>\n",
       "      <td>2021-01-01</td>\n",
       "      <td>53</td>\n",
       "      <td>210147125.0</td>\n",
       "      <td>7700578.0</td>\n",
       "      <td>24605.0</td>\n",
       "      <td>195411.0</td>\n",
       "      <td>462.0</td>\n",
       "    </tr>\n",
       "    <tr>\n",
       "      <th>313</th>\n",
       "      <td>2021-01-02</td>\n",
       "      <td>53</td>\n",
       "      <td>210147125.0</td>\n",
       "      <td>7716405.0</td>\n",
       "      <td>15827.0</td>\n",
       "      <td>195725.0</td>\n",
       "      <td>314.0</td>\n",
       "    </tr>\n",
       "  </tbody>\n",
       "</table>\n",
       "</div>"
      ],
      "text/plain": [
       "          data  semanaEpi  populacaoTCU2019  casosAcumulado  casosNovos  \\\n",
       "309 2020-12-29         53       210147125.0       7563551.0     58718.0   \n",
       "310 2020-12-30         53       210147125.0       7619200.0     55649.0   \n",
       "311 2020-12-31         53       210147125.0       7675973.0     56773.0   \n",
       "312 2021-01-01         53       210147125.0       7700578.0     24605.0   \n",
       "313 2021-01-02         53       210147125.0       7716405.0     15827.0   \n",
       "\n",
       "     obitosAcumulado  obitosNovos  \n",
       "309         192681.0       1111.0  \n",
       "310         193875.0       1194.0  \n",
       "311         194949.0       1074.0  \n",
       "312         195411.0        462.0  \n",
       "313         195725.0        314.0  "
      ]
     },
     "execution_count": 8,
     "metadata": {},
     "output_type": "execute_result"
    }
   ],
   "source": [
    "# DATASET DO PAÍS\n",
    "covid_brasil = covid.query('coduf == 76')\n",
    "covid_brasil = covid_brasil[['data',\n",
    "                             'semanaEpi', \n",
    "                             'populacaoTCU2019',\n",
    "                             'casosAcumulado', \n",
    "                             'casosNovos', \n",
    "                             'obitosAcumulado', \n",
    "                             'obitosNovos']]\n",
    "\n",
    "print('\\n\\n DATASET COVID19 NO BRASIL \\n\\n')\n",
    "covid_brasil.info()\n",
    "print('\\n\\n ============= \\n\\n')\n",
    "covid_brasil.tail(5)"
   ]
  },
  {
   "cell_type": "code",
   "execution_count": 9,
   "metadata": {},
   "outputs": [
    {
     "data": {
      "text/plain": [
       "{11: 'RO',\n",
       " 12: 'AC',\n",
       " 13: 'AM',\n",
       " 14: 'RR',\n",
       " 15: 'PA',\n",
       " 16: 'AP',\n",
       " 17: 'TO',\n",
       " 21: 'MA',\n",
       " 22: 'PI',\n",
       " 23: 'CE',\n",
       " 24: 'RN',\n",
       " 25: 'PB',\n",
       " 26: 'PE',\n",
       " 27: 'AL',\n",
       " 28: 'SE',\n",
       " 29: 'BA',\n",
       " 31: 'MG',\n",
       " 32: 'ES',\n",
       " 33: 'RJ',\n",
       " 35: 'SP',\n",
       " 41: 'PR',\n",
       " 42: 'SC',\n",
       " 43: 'RS',\n",
       " 50: 'MS',\n",
       " 51: 'MT',\n",
       " 52: 'GO',\n",
       " 53: 'DF',\n",
       " nan: nan}"
      ]
     },
     "execution_count": 9,
     "metadata": {},
     "output_type": "execute_result"
    }
   ],
   "source": [
    "# DATASET DO ESTADO\n",
    "\n",
    "# Gerando um dicionário com os códigos dos estados\n",
    "cod_estados = covid[['coduf', 'estado']].groupby('estado').mean().sort_values('coduf')\n",
    "cod_estados.reset_index(inplace=True)\n",
    "cod_estados = cod_estados.set_index('coduf').to_dict()['estado']\n",
    "cod_estados[np.NaN]  = np.NaN\n",
    "cod_estados"
   ]
  },
  {
   "cell_type": "code",
   "execution_count": 10,
   "metadata": {},
   "outputs": [
    {
     "name": "stdout",
     "output_type": "stream",
     "text": [
      " ======  Códigos de UF  ======\n",
      "[76 11 12 13 14 15 16 17 21 22 23 24 25 26 27 28 29 31 32 33 35 41 42 43\n",
      " 50 51 52 53] \n",
      "\n",
      " ======  Código do país  ======\n",
      "Código 76  => quantidade: 314\n",
      "\n",
      "\n"
     ]
    }
   ],
   "source": [
    "# Registros relativos ao país como um todo (coduf = 76)\n",
    "print(' ======  Códigos de UF  ======')\n",
    "print(covid.coduf.unique(), '\\n')\n",
    "print(' ======  Código do país  ======')\n",
    "print(f'Código 76  => quantidade: {len(covid[covid.coduf == 76])}\\n\\n')\n",
    "\n",
    "# Excluindo registros com código do país\n",
    "covid_estados = covid[covid.coduf != 76]"
   ]
  },
  {
   "cell_type": "code",
   "execution_count": 11,
   "metadata": {},
   "outputs": [
    {
     "name": "stdout",
     "output_type": "stream",
     "text": [
      "Estados preenchidos: 17873\n",
      "\n",
      "<class 'pandas.core.frame.DataFrame'>\n",
      "Int64Index: 17873 entries, 314 to 18186\n",
      "Data columns (total 17 columns):\n",
      " #   Column                  Non-Null Count  Dtype         \n",
      "---  ------                  --------------  -----         \n",
      " 0   regiao                  17873 non-null  object        \n",
      " 1   estado                  17873 non-null  object        \n",
      " 2   municipio               9140 non-null   object        \n",
      " 3   coduf                   17873 non-null  int64         \n",
      " 4   codmun                  9422 non-null   float64       \n",
      " 5   codRegiaoSaude          9140 non-null   float64       \n",
      " 6   nomeRegiaoSaude         9140 non-null   object        \n",
      " 7   data                    17873 non-null  datetime64[ns]\n",
      " 8   semanaEpi               17873 non-null  int64         \n",
      " 9   populacaoTCU2019        17590 non-null  float64       \n",
      " 10  casosAcumulado          17872 non-null  float64       \n",
      " 11  casosNovos              17872 non-null  float64       \n",
      " 12  obitosAcumulado         17872 non-null  float64       \n",
      " 13  obitosNovos             17872 non-null  float64       \n",
      " 14  Recuperadosnovos        0 non-null      float64       \n",
      " 15  emAcompanhamentoNovos   0 non-null      float64       \n",
      " 16  interior/metropolitana  9139 non-null   float64       \n",
      "dtypes: datetime64[ns](1), float64(10), int64(2), object(4)\n",
      "memory usage: 2.5+ MB\n"
     ]
    }
   ],
   "source": [
    "# Preenchendo os estados faltantes com seus respectivos códigos\n",
    "estados = [cod_estados[cod] for cod in covid_estados.coduf]\n",
    "print(f'Estados preenchidos: {len(estados)}\\n')\n",
    "covid_estados.assign(estado=estados)\n",
    "\n",
    "covid_estados.info()"
   ]
  },
  {
   "cell_type": "code",
   "execution_count": 12,
   "metadata": {},
   "outputs": [
    {
     "name": "stdout",
     "output_type": "stream",
     "text": [
      "\n",
      "\n",
      " DATASET COVID19 POR ESTADO \n",
      "\n",
      "\n",
      "<class 'pandas.core.frame.DataFrame'>\n",
      "RangeIndex: 17590 entries, 0 to 17589\n",
      "Data columns (total 10 columns):\n",
      " #   Column            Non-Null Count  Dtype         \n",
      "---  ------            --------------  -----         \n",
      " 0   index             17590 non-null  int64         \n",
      " 1   regiao            17590 non-null  object        \n",
      " 2   estado            17590 non-null  object        \n",
      " 3   data              17590 non-null  datetime64[ns]\n",
      " 4   semanaEpi         17590 non-null  int64         \n",
      " 5   populacaoTCU2019  17590 non-null  float64       \n",
      " 6   casosAcumulado    17590 non-null  float64       \n",
      " 7   casosNovos        17590 non-null  float64       \n",
      " 8   obitosAcumulado   17590 non-null  float64       \n",
      " 9   obitosNovos       17590 non-null  float64       \n",
      "dtypes: datetime64[ns](1), float64(5), int64(2), object(2)\n",
      "memory usage: 1.3+ MB\n",
      "\n",
      "\n",
      " ============= \n",
      "\n",
      "\n"
     ]
    },
    {
     "data": {
      "text/html": [
       "<div>\n",
       "<style scoped>\n",
       "    .dataframe tbody tr th:only-of-type {\n",
       "        vertical-align: middle;\n",
       "    }\n",
       "\n",
       "    .dataframe tbody tr th {\n",
       "        vertical-align: top;\n",
       "    }\n",
       "\n",
       "    .dataframe thead th {\n",
       "        text-align: right;\n",
       "    }\n",
       "</style>\n",
       "<table border=\"1\" class=\"dataframe\">\n",
       "  <thead>\n",
       "    <tr style=\"text-align: right;\">\n",
       "      <th></th>\n",
       "      <th>index</th>\n",
       "      <th>regiao</th>\n",
       "      <th>estado</th>\n",
       "      <th>data</th>\n",
       "      <th>semanaEpi</th>\n",
       "      <th>populacaoTCU2019</th>\n",
       "      <th>casosAcumulado</th>\n",
       "      <th>casosNovos</th>\n",
       "      <th>obitosAcumulado</th>\n",
       "      <th>obitosNovos</th>\n",
       "    </tr>\n",
       "  </thead>\n",
       "  <tbody>\n",
       "    <tr>\n",
       "      <th>0</th>\n",
       "      <td>314</td>\n",
       "      <td>Norte</td>\n",
       "      <td>RO</td>\n",
       "      <td>2020-02-25</td>\n",
       "      <td>9</td>\n",
       "      <td>1777225.0</td>\n",
       "      <td>0.0</td>\n",
       "      <td>0.0</td>\n",
       "      <td>0.0</td>\n",
       "      <td>0.0</td>\n",
       "    </tr>\n",
       "    <tr>\n",
       "      <th>1</th>\n",
       "      <td>315</td>\n",
       "      <td>Norte</td>\n",
       "      <td>RO</td>\n",
       "      <td>2020-02-26</td>\n",
       "      <td>9</td>\n",
       "      <td>1777225.0</td>\n",
       "      <td>0.0</td>\n",
       "      <td>0.0</td>\n",
       "      <td>0.0</td>\n",
       "      <td>0.0</td>\n",
       "    </tr>\n",
       "    <tr>\n",
       "      <th>2</th>\n",
       "      <td>316</td>\n",
       "      <td>Norte</td>\n",
       "      <td>RO</td>\n",
       "      <td>2020-02-27</td>\n",
       "      <td>9</td>\n",
       "      <td>1777225.0</td>\n",
       "      <td>0.0</td>\n",
       "      <td>0.0</td>\n",
       "      <td>0.0</td>\n",
       "      <td>0.0</td>\n",
       "    </tr>\n",
       "    <tr>\n",
       "      <th>3</th>\n",
       "      <td>317</td>\n",
       "      <td>Norte</td>\n",
       "      <td>RO</td>\n",
       "      <td>2020-02-28</td>\n",
       "      <td>9</td>\n",
       "      <td>1777225.0</td>\n",
       "      <td>0.0</td>\n",
       "      <td>0.0</td>\n",
       "      <td>0.0</td>\n",
       "      <td>0.0</td>\n",
       "    </tr>\n",
       "    <tr>\n",
       "      <th>4</th>\n",
       "      <td>318</td>\n",
       "      <td>Norte</td>\n",
       "      <td>RO</td>\n",
       "      <td>2020-02-29</td>\n",
       "      <td>9</td>\n",
       "      <td>1777225.0</td>\n",
       "      <td>0.0</td>\n",
       "      <td>0.0</td>\n",
       "      <td>0.0</td>\n",
       "      <td>0.0</td>\n",
       "    </tr>\n",
       "  </tbody>\n",
       "</table>\n",
       "</div>"
      ],
      "text/plain": [
       "   index regiao estado       data  semanaEpi  populacaoTCU2019  \\\n",
       "0    314  Norte     RO 2020-02-25          9         1777225.0   \n",
       "1    315  Norte     RO 2020-02-26          9         1777225.0   \n",
       "2    316  Norte     RO 2020-02-27          9         1777225.0   \n",
       "3    317  Norte     RO 2020-02-28          9         1777225.0   \n",
       "4    318  Norte     RO 2020-02-29          9         1777225.0   \n",
       "\n",
       "   casosAcumulado  casosNovos  obitosAcumulado  obitosNovos  \n",
       "0             0.0         0.0              0.0          0.0  \n",
       "1             0.0         0.0              0.0          0.0  \n",
       "2             0.0         0.0              0.0          0.0  \n",
       "3             0.0         0.0              0.0          0.0  \n",
       "4             0.0         0.0              0.0          0.0  "
      ]
     },
     "execution_count": 12,
     "metadata": {},
     "output_type": "execute_result"
    }
   ],
   "source": [
    "# Montando dataset sem as colunas relacionadas a municipio\n",
    "covid_estados = covid_estados[['regiao', \n",
    "                       'estado', \n",
    "                       'data', \n",
    "                       'semanaEpi', \n",
    "                       'populacaoTCU2019',\n",
    "                       'casosAcumulado', \n",
    "                       'casosNovos', \n",
    "                       'obitosAcumulado', \n",
    "                       'obitosNovos']]\n",
    "\n",
    "# Excluindo os poucos registros nulo restantes\n",
    "covid_estados = covid_estados.dropna()\n",
    "\n",
    "# Reinicialiando o índice\n",
    "covid_estados.reset_index(inplace=True)\n",
    "\n",
    "\n",
    "print('\\n\\n DATASET COVID19 POR ESTADO \\n\\n')\n",
    "covid_estados.info()\n",
    "print('\\n\\n ============= \\n\\n')\n",
    "covid_estados.head(5)"
   ]
  },
  {
   "cell_type": "markdown",
   "metadata": {},
   "source": [
    "### Análise Exploratória\n",
    "\n",
    "Inicialmente, não considerando as colunas relacionadas a municípios - por possuirem muitos dados faltantes - algumas análises poderão ser feitas com o _dataset_.  \n",
    "\n",
    "---\n",
    "1. Qual o número de mortes no país até o registro mais recente?\n",
    "2. Qual o número de infectados no país até o registro mais recente?\n",
    "3. Qual a taxa de letalidade no país?\n",
    "4. Como foi a evolução de novos casos vs mortes no país?\n",
    "\n",
    "---\n",
    "5. Qual o número de mortes em cada estado até o registro mais recente?\n",
    "6. Qual o número de infectados em cada estado até o registro mais recente?\n",
    "7. Qual a taxa de letalidade por estado?\n",
    "8. Como foi a evolução de novos casos vs mortes para cada estado?\n",
    "\n"
   ]
  },
  {
   "cell_type": "markdown",
   "metadata": {},
   "source": [
    "#### Número de mortes no país até o último registro"
   ]
  },
  {
   "cell_type": "code",
   "execution_count": 13,
   "metadata": {},
   "outputs": [
    {
     "name": "stdout",
     "output_type": "stream",
     "text": [
      "Total de óbitos em 02 de Jan de 2021: 195725\n"
     ]
    }
   ],
   "source": [
    "data = covid_brasil['data'].iloc[-1]\n",
    "obitos = covid_brasil['obitosAcumulado'].iloc[-1]\n",
    "\n",
    "print(f'Total de óbitos em {data.strftime(\"%d de %b de %Y\")}: {int(obitos)}')"
   ]
  },
  {
   "cell_type": "markdown",
   "metadata": {},
   "source": [
    "#### Número de infectados no país até o último registro"
   ]
  },
  {
   "cell_type": "code",
   "execution_count": 14,
   "metadata": {},
   "outputs": [
    {
     "name": "stdout",
     "output_type": "stream",
     "text": [
      "Total de casos em 02 de Jan de 2021: 7716405\n"
     ]
    }
   ],
   "source": [
    "casos = covid_brasil['casosAcumulado'].iloc[-1]\n",
    "\n",
    "print(f'Total de casos em {data.strftime(\"%d de %b de %Y\")}: {int(casos)}')"
   ]
  },
  {
   "cell_type": "markdown",
   "metadata": {},
   "source": [
    "#### Taxa de letalidade no país"
   ]
  },
  {
   "cell_type": "code",
   "execution_count": 15,
   "metadata": {},
   "outputs": [
    {
     "name": "stdout",
     "output_type": "stream",
     "text": [
      "Taxa de letalidade do vírus no país em 02 de Jan de 2021: 2.54%\n"
     ]
    }
   ],
   "source": [
    "print(f'Taxa de letalidade do vírus no país em {data.strftime(\"%d de %b de %Y\")}: {round((obitos/casos)*100, 2)}%')"
   ]
  },
  {
   "cell_type": "markdown",
   "metadata": {},
   "source": [
    "#### Evolução casos vs mortes no páis"
   ]
  },
  {
   "cell_type": "code",
   "execution_count": 16,
   "metadata": {},
   "outputs": [
    {
     "data": {
      "text/plain": [
       "<matplotlib.legend.Legend at 0x1e0e2e88dc0>"
      ]
     },
     "execution_count": 16,
     "metadata": {},
     "output_type": "execute_result"
    },
    {
     "data": {
      "image/png": "[encoded data removed]",
      "text/plain": [
       "<Figure size 1152x720 with 1 Axes>"
      ]
     },
     "metadata": {
      "needs_background": "light"
     },
     "output_type": "display_data"
    }
   ],
   "source": [
    "fig = plt.figure(figsize=(16, 10))\n",
    "plt.xticks(rotation=70)\n",
    "\n",
    "plt.plot('data', 'casosAcumulado', data=covid_brasil, label='Casos')\n",
    "plt.plot('data', 'obitosAcumulado', data=covid_brasil, label='Óbitos')\n",
    "\n",
    "plt.title('CASOS vs ÓBITOS NO BRASIL')\n",
    "plt.legend()"
   ]
  },
  {
   "cell_type": "code",
   "execution_count": 17,
   "metadata": {},
   "outputs": [
    {
     "data": {
      "text/html": [
       "<div>\n",
       "<style scoped>\n",
       "    .dataframe tbody tr th:only-of-type {\n",
       "        vertical-align: middle;\n",
       "    }\n",
       "\n",
       "    .dataframe tbody tr th {\n",
       "        vertical-align: top;\n",
       "    }\n",
       "\n",
       "    .dataframe thead th {\n",
       "        text-align: right;\n",
       "    }\n",
       "</style>\n",
       "<table border=\"1\" class=\"dataframe\">\n",
       "  <thead>\n",
       "    <tr style=\"text-align: right;\">\n",
       "      <th></th>\n",
       "      <th>index</th>\n",
       "      <th>regiao</th>\n",
       "      <th>estado</th>\n",
       "      <th>data</th>\n",
       "      <th>semanaEpi</th>\n",
       "      <th>populacaoTCU2019</th>\n",
       "      <th>casosAcumulado</th>\n",
       "      <th>casosNovos</th>\n",
       "      <th>obitosAcumulado</th>\n",
       "      <th>obitosNovos</th>\n",
       "    </tr>\n",
       "  </thead>\n",
       "  <tbody>\n",
       "    <tr>\n",
       "      <th>0</th>\n",
       "      <td>314</td>\n",
       "      <td>Norte</td>\n",
       "      <td>RO</td>\n",
       "      <td>2020-02-25</td>\n",
       "      <td>9</td>\n",
       "      <td>1777225.0</td>\n",
       "      <td>0.0</td>\n",
       "      <td>0.0</td>\n",
       "      <td>0.0</td>\n",
       "      <td>0.0</td>\n",
       "    </tr>\n",
       "    <tr>\n",
       "      <th>1</th>\n",
       "      <td>315</td>\n",
       "      <td>Norte</td>\n",
       "      <td>RO</td>\n",
       "      <td>2020-02-26</td>\n",
       "      <td>9</td>\n",
       "      <td>1777225.0</td>\n",
       "      <td>0.0</td>\n",
       "      <td>0.0</td>\n",
       "      <td>0.0</td>\n",
       "      <td>0.0</td>\n",
       "    </tr>\n",
       "    <tr>\n",
       "      <th>2</th>\n",
       "      <td>316</td>\n",
       "      <td>Norte</td>\n",
       "      <td>RO</td>\n",
       "      <td>2020-02-27</td>\n",
       "      <td>9</td>\n",
       "      <td>1777225.0</td>\n",
       "      <td>0.0</td>\n",
       "      <td>0.0</td>\n",
       "      <td>0.0</td>\n",
       "      <td>0.0</td>\n",
       "    </tr>\n",
       "    <tr>\n",
       "      <th>3</th>\n",
       "      <td>317</td>\n",
       "      <td>Norte</td>\n",
       "      <td>RO</td>\n",
       "      <td>2020-02-28</td>\n",
       "      <td>9</td>\n",
       "      <td>1777225.0</td>\n",
       "      <td>0.0</td>\n",
       "      <td>0.0</td>\n",
       "      <td>0.0</td>\n",
       "      <td>0.0</td>\n",
       "    </tr>\n",
       "    <tr>\n",
       "      <th>4</th>\n",
       "      <td>318</td>\n",
       "      <td>Norte</td>\n",
       "      <td>RO</td>\n",
       "      <td>2020-02-29</td>\n",
       "      <td>9</td>\n",
       "      <td>1777225.0</td>\n",
       "      <td>0.0</td>\n",
       "      <td>0.0</td>\n",
       "      <td>0.0</td>\n",
       "      <td>0.0</td>\n",
       "    </tr>\n",
       "  </tbody>\n",
       "</table>\n",
       "</div>"
      ],
      "text/plain": [
       "   index regiao estado       data  semanaEpi  populacaoTCU2019  \\\n",
       "0    314  Norte     RO 2020-02-25          9         1777225.0   \n",
       "1    315  Norte     RO 2020-02-26          9         1777225.0   \n",
       "2    316  Norte     RO 2020-02-27          9         1777225.0   \n",
       "3    317  Norte     RO 2020-02-28          9         1777225.0   \n",
       "4    318  Norte     RO 2020-02-29          9         1777225.0   \n",
       "\n",
       "   casosAcumulado  casosNovos  obitosAcumulado  obitosNovos  \n",
       "0             0.0         0.0              0.0          0.0  \n",
       "1             0.0         0.0              0.0          0.0  \n",
       "2             0.0         0.0              0.0          0.0  \n",
       "3             0.0         0.0              0.0          0.0  \n",
       "4             0.0         0.0              0.0          0.0  "
      ]
     },
     "execution_count": 17,
     "metadata": {},
     "output_type": "execute_result"
    }
   ],
   "source": [
    "covid_estados.head()"
   ]
  },
  {
   "cell_type": "markdown",
   "metadata": {},
   "source": [
    "#### Qual o número de mortes em cada estado até o registro mais recente?"
   ]
  },
  {
   "cell_type": "code",
   "execution_count": 36,
   "metadata": {},
   "outputs": [
    {
     "data": {
      "text/plain": [
       "<AxesSubplot:title={'center':'Quantidade de mortes por Estado até 02/01/2021'}, xlabel='estado'>"
      ]
     },
     "execution_count": 36,
     "metadata": {},
     "output_type": "execute_result"
    },
    {
     "data": {
      "image/png": "[encoded data removed]",
      "text/plain": [
       "<Figure size 1440x720 with 1 Axes>"
      ]
     },
     "metadata": {
      "needs_background": "light"
     },
     "output_type": "display_data"
    }
   ],
   "source": [
    "mortesPorEstado = covid_estados.groupby(['estado']).sum()['obitosAcumulado'].sort_values(ascending=False)\n",
    "mortesPorEstado.plot(kind='bar', figsize=(20,10), title=\"Quantidade de mortes por Estado até 02/01/2021\")"
   ]
  },
  {
   "cell_type": "markdown",
   "metadata": {},
   "source": [
    "#### Qual o número de casos em cada estado até o registro mais recente?"
   ]
  },
  {
   "cell_type": "code",
   "execution_count": 37,
   "metadata": {},
   "outputs": [
    {
     "data": {
      "text/plain": [
       "<AxesSubplot:title={'center':'Quantidade de infectados por Estado até 02/01/2021'}, xlabel='estado'>"
      ]
     },
     "execution_count": 37,
     "metadata": {},
     "output_type": "execute_result"
    },
    {
     "data": {
      "image/png": "[encoded data removed]",
      "text/plain": [
       "<Figure size 1440x720 with 1 Axes>"
      ]
     },
     "metadata": {
      "needs_background": "light"
     },
     "output_type": "display_data"
    }
   ],
   "source": [
    "infectadosPorEstado = covid_estados.groupby(['estado']).sum()['casosAcumulado'].sort_values(ascending=False)\n",
    "infectadosPorEstado.plot(kind='bar', figsize=(20,10), title=\"Quantidade de infectados por Estado até 02/01/2021\")"
   ]
  },
  {
   "cell_type": "code",
   "execution_count": 38,
   "metadata": {},
   "outputs": [
    {
     "data": {
      "text/plain": [
       "<AxesSubplot:title={'center':'Taxa de letalidade por estado até 02/01/2021.'}, xlabel='estado'>"
      ]
     },
     "execution_count": 38,
     "metadata": {},
     "output_type": "execute_result"
    },
    {
     "data": {
      "image/png": "[encoded data removed]",
      "text/plain": [
       "<Figure size 1440x720 with 1 Axes>"
      ]
     },
     "metadata": {
      "needs_background": "light"
     },
     "output_type": "display_data"
    }
   ],
   "source": [
    "taxaLetalidade = ( mortesPorEstado / infectadosPorEstado).sort_values(ascending=False)\n",
    "taxaLetalidade.plot(kind='bar', figsize=(20,10), title=\"Taxa de letalidade por estado até 02/01/2021.\")"
   ]
  },
  {
   "cell_type": "code",
   "execution_count": 42,
   "metadata": {},
   "outputs": [
    {
     "data": {
      "text/html": [
       "<div>\n",
       "<style scoped>\n",
       "    .dataframe tbody tr th:only-of-type {\n",
       "        vertical-align: middle;\n",
       "    }\n",
       "\n",
       "    .dataframe tbody tr th {\n",
       "        vertical-align: top;\n",
       "    }\n",
       "\n",
       "    .dataframe thead th {\n",
       "        text-align: right;\n",
       "    }\n",
       "</style>\n",
       "<table border=\"1\" class=\"dataframe\">\n",
       "  <thead>\n",
       "    <tr style=\"text-align: right;\">\n",
       "      <th></th>\n",
       "      <th>index</th>\n",
       "      <th>regiao</th>\n",
       "      <th>estado</th>\n",
       "      <th>data</th>\n",
       "      <th>semanaEpi</th>\n",
       "      <th>populacaoTCU2019</th>\n",
       "      <th>casosAcumulado</th>\n",
       "      <th>casosNovos</th>\n",
       "      <th>obitosAcumulado</th>\n",
       "      <th>obitosNovos</th>\n",
       "    </tr>\n",
       "  </thead>\n",
       "  <tbody>\n",
       "    <tr>\n",
       "      <th>0</th>\n",
       "      <td>314</td>\n",
       "      <td>Norte</td>\n",
       "      <td>RO</td>\n",
       "      <td>2020-02-25</td>\n",
       "      <td>9</td>\n",
       "      <td>1777225.0</td>\n",
       "      <td>0.0</td>\n",
       "      <td>0.0</td>\n",
       "      <td>0.0</td>\n",
       "      <td>0.0</td>\n",
       "    </tr>\n",
       "    <tr>\n",
       "      <th>1</th>\n",
       "      <td>315</td>\n",
       "      <td>Norte</td>\n",
       "      <td>RO</td>\n",
       "      <td>2020-02-26</td>\n",
       "      <td>9</td>\n",
       "      <td>1777225.0</td>\n",
       "      <td>0.0</td>\n",
       "      <td>0.0</td>\n",
       "      <td>0.0</td>\n",
       "      <td>0.0</td>\n",
       "    </tr>\n",
       "    <tr>\n",
       "      <th>2</th>\n",
       "      <td>316</td>\n",
       "      <td>Norte</td>\n",
       "      <td>RO</td>\n",
       "      <td>2020-02-27</td>\n",
       "      <td>9</td>\n",
       "      <td>1777225.0</td>\n",
       "      <td>0.0</td>\n",
       "      <td>0.0</td>\n",
       "      <td>0.0</td>\n",
       "      <td>0.0</td>\n",
       "    </tr>\n",
       "    <tr>\n",
       "      <th>3</th>\n",
       "      <td>317</td>\n",
       "      <td>Norte</td>\n",
       "      <td>RO</td>\n",
       "      <td>2020-02-28</td>\n",
       "      <td>9</td>\n",
       "      <td>1777225.0</td>\n",
       "      <td>0.0</td>\n",
       "      <td>0.0</td>\n",
       "      <td>0.0</td>\n",
       "      <td>0.0</td>\n",
       "    </tr>\n",
       "    <tr>\n",
       "      <th>4</th>\n",
       "      <td>318</td>\n",
       "      <td>Norte</td>\n",
       "      <td>RO</td>\n",
       "      <td>2020-02-29</td>\n",
       "      <td>9</td>\n",
       "      <td>1777225.0</td>\n",
       "      <td>0.0</td>\n",
       "      <td>0.0</td>\n",
       "      <td>0.0</td>\n",
       "      <td>0.0</td>\n",
       "    </tr>\n",
       "  </tbody>\n",
       "</table>\n",
       "</div>"
      ],
      "text/plain": [
       "   index regiao estado       data  semanaEpi  populacaoTCU2019  \\\n",
       "0    314  Norte     RO 2020-02-25          9         1777225.0   \n",
       "1    315  Norte     RO 2020-02-26          9         1777225.0   \n",
       "2    316  Norte     RO 2020-02-27          9         1777225.0   \n",
       "3    317  Norte     RO 2020-02-28          9         1777225.0   \n",
       "4    318  Norte     RO 2020-02-29          9         1777225.0   \n",
       "\n",
       "   casosAcumulado  casosNovos  obitosAcumulado  obitosNovos  \n",
       "0             0.0         0.0              0.0          0.0  \n",
       "1             0.0         0.0              0.0          0.0  \n",
       "2             0.0         0.0              0.0          0.0  \n",
       "3             0.0         0.0              0.0          0.0  \n",
       "4             0.0         0.0              0.0          0.0  "
      ]
     },
     "execution_count": 42,
     "metadata": {},
     "output_type": "execute_result"
    }
   ],
   "source": [
    "covid_estados.head()"
   ]
  },
  {
   "cell_type": "code",
   "execution_count": null,
   "metadata": {},
   "outputs": [],
   "source": []
  },
  {
   "cell_type": "code",
   "execution_count": null,
   "metadata": {},
   "outputs": [],
   "source": []
  }
 ],
 "metadata": {
  "kernelspec": {
   "display_name": "Python 3",
   "language": "python",
   "name": "python3"
  },
  "language_info": {
   "codemirror_mode": {
    "name": "ipython",
    "version": 3
   },
   "file_extension": ".py",
   "mimetype": "text/x-python",
   "name": "python",
   "nbconvert_exporter": "python",
   "pygments_lexer": "ipython3",
   "version": "3.8.5"
  }
 },
 "nbformat": 4,
 "nbformat_minor": 4
}
